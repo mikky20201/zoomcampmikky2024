{
 "cells": [
  {
   "cell_type": "code",
   "execution_count": 1,
   "id": "9b92053c-0ef8-4e8e-8d6c-4a05092575df",
   "metadata": {},
   "outputs": [
    {
     "name": "stdout",
     "output_type": "stream",
     "text": [
      "This is important to me\n"
     ]
    }
   ],
   "source": [
    "print(\"This is important to me\")\n"
   ]
  },
  {
   "cell_type": "code",
   "execution_count": null,
   "id": "55409e63-960a-435a-81bd-40ad44be8a60",
   "metadata": {},
   "outputs": [],
   "source": []
  }
 ],
 "metadata": {
  "kernelspec": {
   "display_name": "Python 3 (ipykernel)",
   "language": "python",
   "name": "python3"
  },
  "language_info": {
   "codemirror_mode": {
    "name": "ipython",
    "version": 3
   },
   "file_extension": ".py",
   "mimetype": "text/x-python",
   "name": "python",
   "nbconvert_exporter": "python",
   "pygments_lexer": "ipython3",
   "version": "3.10.13"
  }
 },
 "nbformat": 4,
 "nbformat_minor": 5
}
